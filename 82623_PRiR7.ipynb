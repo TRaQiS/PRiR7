{
  "nbformat": 4,
  "nbformat_minor": 0,
  "metadata": {
    "colab": {
      "provenance": []
    },
    "kernelspec": {
      "name": "python3",
      "display_name": "Python 3"
    },
    "language_info": {
      "name": "python"
    },
    "accelerator": "GPU",
    "gpuClass": "standard"
  },
  "cells": [
    {
      "cell_type": "markdown",
      "source": [
        "Fabrycki Łukasz 82623\n",
        "\n",
        "**Laboratorium 13**\n",
        "\n",
        "Zaimplementuj w Google Colab w bibliotece PyTorch program z wykorzystaniem tensorów, w\n",
        "którym obliczysz pole okręgu na podstawie algorytmu Monte Carlo. Program powinien\n",
        "posiadać 2 wersje -> na CPU i GPU. Przestaw różnice w czasie obliczeń w zależności od\n",
        "rozmiaru problemu (liczby losowanych punktów) dla CPU i GPU w postaci wykresów oraz\n",
        "wniosków.\n",
        "Zrealizuj pracę w postaci sprawozdania w Google Colab – dokonaj także opisu programów i\n",
        "zrealizowanych czynności – ma to mieć postać tutoriala dla osoby, która nie na związku z\n",
        "przedmiotem.\n",
        "1.5p\n"
      ],
      "metadata": {
        "id": "-1wF8EUGuyAT"
      }
    },
    {
      "cell_type": "code",
      "execution_count": null,
      "metadata": {
        "id": "gweYuEygmiig"
      },
      "outputs": [],
      "source": [
        "import torch\n",
        "import time\n",
        "\n",
        "def calc_area_monte_carlo(n_points, radius, device):\n",
        "    points = torch.rand(n_points, 2, device=device) * radius\n",
        "    dist = torch.sqrt(torch.sum(points**2, dim=1))\n",
        "    in_circle = (dist <= radius).sum().item()\n",
        "    area = (in_circle / n_points) * (radius**2 * 4)\n",
        "    return area\n",
        "\n",
        "num_points = 10000000\n",
        "circle_radius = 20\n",
        "start = time.time()\n",
        "area_cpu = calc_area_monte_carlo(num_points, circle_radius, \"cpu\")\n",
        "end = time.time()\n",
        "elapsed = end - start\n",
        "print(f'Czas obliczeń CPU: {elapsed}')\n",
        "print(f'Pole okręgu o promieniu {circle_radius} obliczone z wykorzystaniem CPU: {area_cpu}')"
      ]
    },
    {
      "cell_type": "markdown",
      "source": [
        "Ten kod oblicza pole okręgu za pomocą metody Monte Carlo. Tworzy on losowe punkty (z użyciem biblioteki torch) i określa, ile z nich znajduje się wewnątrz okręgu. Następnie, stosując stosunek punktów wewnątrz okręgu do wszystkich punktów, oblicza pole okręgu. Kod mierzy też czas, jaki upłynął na obliczenia na CPU."
      ],
      "metadata": {
        "id": "11NphHT9posr"
      }
    },
    {
      "cell_type": "code",
      "source": [
        "import torch\n",
        "import time\n",
        "\n",
        "def monte_carlo_circle_area(n_points, radius,device):\n",
        "    points = torch.rand(n_points, 2,device=device)\n",
        "    \n",
        "    points = points * radius\n",
        "    distances = torch.sqrt(points[:, 0]**2 + points[:, 1]**2)\n",
        "    in_circle = (distances <= radius).sum().item()\n",
        "    area = (in_circle / n_points) * (radius**2 * 4)\n",
        "    return area\n",
        "n_points = 10000000\n",
        "radius = 20\n",
        "start = time.time()\n",
        "area_gpu = monte_carlo_circle_area(n_points, radius,\"cuda\")\n",
        "koniec = time.time()\n",
        "czas = koniec-start\n",
        "print(f'Czas obliczeń GPU: {czas}')\n",
        "print(f'Pole okręgu o promieniu {circle_radius} obliczone z wykorzystaniem GPU: {area_gpu}')"
      ],
      "metadata": {
        "id": "sbtLJfNXnDJ1"
      },
      "execution_count": null,
      "outputs": []
    },
    {
      "cell_type": "markdown",
      "source": [
        "Kod oblicza pole koła za pomocą metody Monte Carlo z wykorzystaniem biblioteki PyTorch. Funkcja monte_carlo_circle_area generuje losowe punkty na płaszczyźnie 2D, sprawdza, czy znajdują się one wewnątrz koła o określonym promieniu, a następnie oblicza stosunek punktów wewnątrz koła do całkowitej liczby punktów. Ten stosunek jest następnie mnożony przez pole koła, aby uzyskać szacunkowe pole. Kod korzysta z GPU (jeśli jest dostępne), aby przyspieszyć obliczenia, ustawiając device=\"cuda\". Czas obliczeń i szacowane pole są wypisywane na ekranie."
      ],
      "metadata": {
        "id": "7sGk1QF5qIGS"
      }
    },
    {
      "cell_type": "markdown",
      "source": [
        "**WARTOŚCI GPU:**\n",
        "\n",
        "n_points: 1000000 \n",
        "time: 0.0014905929565429688\n",
        "\n",
        "n_points: 5000000\n",
        "time: 0.003432035446166992\n",
        "\n",
        "n_points: 10000000\n",
        "time: 0.009438276290893555\n",
        "\n",
        "**WARTOŚCI CPU:**\n",
        "\n",
        "n_points: 1000000 \n",
        "time: 0.0890200138092041\n",
        "\n",
        "n_points: 5000000\n",
        "time: 0.17293143272399902\n",
        "\n",
        "n_points: 10000000\n",
        "time: 0.30754899978637695\n"
      ],
      "metadata": {
        "id": "S0rX432buWkU"
      }
    },
    {
      "cell_type": "code",
      "source": [
        "import matplotlib.pyplot as plt\n",
        "\n",
        "# ilsoc n\n",
        "n_values = [1000000 , 5000000, 100000000]\n",
        "\n",
        "# wartości dla GPU\n",
        "gpu_values = [0.0014905929565429688, 0.003432035446166992, 0.009438276290893555]\n",
        "\n",
        "# wartości dla CPU\n",
        "cpu_values = [0.0890200138092041, 0.17293143272399902, 0.30754899978637695]\n",
        "\n",
        "# rysowanie wykresu liniowego z wartościami DIM jako oś x i wartościami GPU i CPU jako oś y\n",
        "plt.plot(n_values, gpu_values, label=\"GPU\")\n",
        "plt.plot(n_values, cpu_values, label=\"CPU\")\n",
        "\n",
        "# dodanie etykiet dla osi x i y\n",
        "plt.xlabel(\"n\")\n",
        "plt.ylabel(\"czas\")\n",
        "\n",
        "# dodanie legendy\n",
        "plt.legend()\n",
        "\n",
        "# wyświetlenie wykresu\n",
        "plt.show()"
      ],
      "metadata": {
        "colab": {
          "base_uri": "https://localhost:8080/",
          "height": 279
        },
        "id": "aXeF7NCuqM4D",
        "outputId": "0487388c-820a-48d1-e475-8857604caaf0"
      },
      "execution_count": null,
      "outputs": [
        {
          "output_type": "display_data",
          "data": {
            "text/plain": [
              "<Figure size 432x288 with 1 Axes>"
            ],
            "image/png": "[encoded data removed]"
          },
          "metadata": {
            "needs_background": "light"
          }
        }
      ]
    },
    {
      "cell_type": "markdown",
      "source": [
        "Wyniki pokazują, że proces obliczania powierzchni okręgu przy użyciu GPU jest szybszy niż przy użyciu CPU w każdym z trzech ilości n (1000000, 5000000, 100000000). Czas obliczenia dla GPU jest znacznie mniejszy niż dla CPU i maleje wraz ze wzrostem ilości n, co sugeruje, że GPU jest bardziej wydajne w przypadku obliczeń matematycznych."
      ],
      "metadata": {
        "id": "qWUTfxz-uoNk"
      }
    }
  ]
}